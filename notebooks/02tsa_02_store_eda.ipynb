{
 "cells": [
  {
   "cell_type": "markdown",
   "metadata": {},
   "source": [
    "# Absatzprognose für einen Supermarkt\n",
    "Stell dir vor, du bist ein Data Scientist, der für Favorita, eine Supermarktkette in Ecuador, arbeitet. Du hast Zugang zu einem umfangreichen Datensatz, der Verkaufsinformationen, Angaben zu Geschäften und Produkten sowie zusätzliche wirtschaftliche Indikatoren aus den letzten Jahren enthält. Das Management möchte diese Daten nutzen, um fundierte Entscheidungen treffen zu können. Sie sind besonders daran interessiert, herauszufinden, welche Produktfamilien den höchsten Umsatz erzielen, ob in den Daten Anomalien vorhanden sind und insbesondere, ob die Verkäufe für die nächsten 15 Tage präzise vorhergesagt werden können.\n",
    "\n",
    "Deine Aufgabe ist es, eine tiefgehende Analyse der bereitgestellten Datensätze durchzuführen. Du hast Zugang zu verschiedenen Dateien: 'train.csv' enthält Zeitreihendaten für verschiedene Merkmale wie Geschäftsnummer (store_nbr), Produktfamilie (family) und Informationen über Promotionen (onpromotion). 'test.csv' gibt dir die Möglichkeit, deine Vorhersagemodelle auf Aktualität zu prüfen. Ergänzende Dateien wie 'stores.csv', 'oil.csv' und 'holidays_events.csv' bieten zusätzliche Kontextinformationen, die bei deiner Analyse hilfreich sein könnten.\n",
    "\n",
    "### Aufgaben\n",
    "\n",
    "#### Aufgabe 1. Allgemeine Analyse\n",
    "1. **Daten laden und inspizieren**: Lade den Datensatz und schau dir die ersten Zeilen an. Überprüfe auch, welche Datentypen die einzelnen Spalten haben.\n",
    "2. **Zusammenfassende Statistik**: Erstelle eine Übersicht der wichtigsten statistischen Kennzahlen, um ein besseres Gefühl für die Daten zu bekommen. Beispiele könnten sein: \n",
    "    - Wie viele Produkte werden verkauft\n",
    "    - Wie viel Umsatz wurde erwirtschaftet\n",
    "    - Auswertung hinsichtlich verschiedener Dimensionen ( z. B. : Zeit, Store, Produkt)\n",
    "    - usw. - Überlege dir weitere Kennzahlen die einen guten Einblick geben könnten\n",
    "3. **Verkaufsanomalien**: Finde ungewöhnliche Spitzen oder Einbrüche im Verkauf und versuche, die Gründe dafür zu ermitteln.\n"
   ]
  },
  {
   "cell_type": "markdown",
   "metadata": {},
   "source": [
    "**INFO: Das Datenset findest du im Ilias Ordner. Speichere es unter tsa02 ab. Beginne mit der Analyse von `train.csv` und ziehe bei Bedarf weitere Daten hinzu.**"
   ]
  },
  {
   "cell_type": "code",
   "execution_count": null,
   "metadata": {},
   "outputs": [],
   "source": [
    "# Your Code here"
   ]
  },
  {
   "cell_type": "markdown",
   "metadata": {},
   "source": [
    "#### Aufgabe 2. Datenbereinigung und -vorverarbeitung\n",
    "1. **Probleme und Ausreißer erkennen**: Finde Duplikate und Ausreißer im Datensatz und entscheide, wie diese behandelt werden sollen.\n",
    "2. **Fehlende Daten finden**: Schau nach, ob im Datensatz Werte fehlen, und überlege dir, wie du damit umgehen willst."
   ]
  },
  {
   "cell_type": "code",
   "execution_count": null,
   "metadata": {},
   "outputs": [],
   "source": [
    "# Your Code here"
   ]
  },
  {
   "cell_type": "markdown",
   "metadata": {},
   "source": [
    "#### Aufgabe 3. Umsatzanalyse\n",
    "1. **Top 5 Umsatzprodukte**: Finde heraus, welche 5 Kategorien (family) am meisten verkauft werden. Führe ein Detailanalyse für 3 dieser Kategorien durch. D.h. Schau dir ihren zeitlichen verlauf an, untersuche mögliche Korrelationen zu anderen Kategorien.\n",
    "Verwende diese 3 Produkte auch bei den folgenden Aufgaben."
   ]
  },
  {
   "cell_type": "code",
   "execution_count": null,
   "metadata": {},
   "outputs": [],
   "source": [
    "# Your Code here"
   ]
  },
  {
   "cell_type": "markdown",
   "metadata": {},
   "source": [
    "#### Aufgabe 4. Zeitreihenanalyse\n",
    "1. **Zeitreihen zerlegen**: Unterteile die Zeitreihendaten in ihre Bestandteile: Trend, Saisonalität und Rauschen. \n",
    "2. **Stationarität überprüfen**: Checke, ob die Zeitreihendaten stationär sind oder nicht.\n",
    "3. **Auto-Korrelation und partielle Auto-Korrelation**: Erstelle diese Plots, um eventuelle Autokorrelationen in den Zeitreihendaten zu identifizieren."
   ]
  },
  {
   "cell_type": "markdown",
   "metadata": {},
   "source": []
  }
 ],
 "metadata": {
  "language_info": {
   "name": "python"
  },
  "orig_nbformat": 4
 },
 "nbformat": 4,
 "nbformat_minor": 2
}
