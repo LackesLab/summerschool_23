{
 "cells": [
  {
   "cell_type": "code",
   "execution_count": 4,
   "metadata": {},
   "outputs": [],
   "source": [
    "import numpy as np\n",
    "import plotly.express as px\n",
    "import pandas as pd\n",
    "import statsmodels as sm"
   ]
  },
  {
   "cell_type": "markdown",
   "metadata": {},
   "source": [
    "### \n",
    "# Section 1: Construct Trend, Seasonality, and Residual Components\n",
    "In today's lecture, we'll separately fabricate trend, seasonal, and error components \n",
    "as a pedagogical exercise. The aim is to illustrate the fundamentals of constructing a \n",
    "basic time series dataset, paving the way for more advanced topics. For now, lt's generate a time sequence in minute intervals."
   ]
  },
  {
   "cell_type": "code",
   "execution_count": 5,
   "metadata": {},
   "outputs": [],
   "source": [
    "# Define time\n",
    "time = np.arange(1, 90)"
   ]
  },
  {
   "cell_type": "markdown",
   "metadata": {},
   "source": [
    "## Exercise 1\n",
    "1. Initialize the Time Series: Start by initializing a time series with the time ranging from 1 to 90. Use NumPy's arange method for this.\n",
    "2. Create the Trend Component: Generate a trend component by multiplying the time series by 2.75.\n",
    "3. Create the Seasonal Component: Generate a seasonal component using a sinusoidal function.\n",
    "4. Create the Residual Component: Generate a residual (or error) component with a normal distribution centered at 0 and a standard deviation of 1. Make sure to set a random seed **42** for reproducible results.\n",
    "5. Create an Additive Model: Combine the trend, seasonal, and residual components to form an additive time series model.\n",
    "6. Create a Multiplicative Model: Use the trend and seasonal components to create a multiplicative model. For this exercise, we will ignore the residual component by setting it to one.\n",
    "\n",
    "\n",
    "### Expected Outcomes:\n",
    "You should be able to visualize the individual components: trend, seasonal, and residual.\n",
    "You will create two composite time series: one additive and one multiplicative, and understand how each component contributes to the overall time series.\n",
    "\n",
    "\n",
    "### Additional Notes:\n",
    "Make sure to label the axes and provide legends in the plots for better understanding.\n",
    "Feel free to experiment with different constants and functions for generating the trend and seasonal components."
   ]
  },
  {
   "cell_type": "markdown",
   "metadata": {},
   "source": [
    "## Exercise 2\n",
    "In this exercise, your task is two-fold:\n",
    "1. Determine if **Dataset_A** and **Dataset_B** are additive or multiplicative time series.\n",
    "2. Determine the frequency of the seasonal component."
   ]
  },
  {
   "cell_type": "markdown",
   "metadata": {},
   "source": [
    "### Dataset A"
   ]
  },
  {
   "cell_type": "code",
   "execution_count": null,
   "metadata": {},
   "outputs": [],
   "source": [
    "PATH_TO_FILE = \"PATH_TO_DATA\""
   ]
  },
  {
   "cell_type": "code",
   "execution_count": null,
   "metadata": {},
   "outputs": [],
   "source": [
    "# Your code here"
   ]
  },
  {
   "cell_type": "markdown",
   "metadata": {},
   "source": [
    "#### Qeustions Dataset A\n",
    "Q1: Is the time series of Dataset A Additiv or Multiplicative\n",
    "\n",
    "A1: \n",
    "\n",
    "Q2: What is the frequency of the time series:\n",
    "\n",
    "A2: "
   ]
  },
  {
   "cell_type": "code",
   "execution_count": null,
   "metadata": {},
   "outputs": [],
   "source": [
    "# Your code here"
   ]
  },
  {
   "cell_type": "markdown",
   "metadata": {},
   "source": [
    "#### Qeustions Dataset B\n",
    "Q1: Is the time series of Dataset B Additiv or Multiplicative\n",
    "\n",
    "A1: \n",
    "\n",
    "Q2: What is the frequency of the time series:\n",
    "\n",
    "A2: "
   ]
  },
  {
   "cell_type": "markdown",
   "metadata": {},
   "source": [
    "## Exercise 3\n",
    "\n",
    "In this section, we'll switch gears to deconstruct time series data into its core elements. We'll explore both additive and multiplicative time series and dissect them into their primary components: trend, seasonality, and residual noise.\n",
    "\n",
    "It's crucial to clarify that our objective here isn't to delve into the intricacies of how this decomposition occurs. Instead, our aim is to demonstrate that time series data, once created, can be broken down into these foundational components for further analysis.\n",
    "\n",
    "**Note**: You can either use statsmodels decompose method or the one from darts package\n",
    "\n",
    "**Task**\n",
    "In this exercise, your task is decompose **Dataset_A** and **Dataset_B**. You should first create a\n",
    "decomposition model in Python. Then you should plot the original series, the trend, seasonality, and residuals, in that order. "
   ]
  },
  {
   "cell_type": "code",
   "execution_count": null,
   "metadata": {},
   "outputs": [],
   "source": [
    "# Imports here"
   ]
  },
  {
   "cell_type": "markdown",
   "metadata": {},
   "source": [
    "### Dataset A"
   ]
  },
  {
   "cell_type": "code",
   "execution_count": null,
   "metadata": {},
   "outputs": [],
   "source": [
    "# Your Code here"
   ]
  },
  {
   "cell_type": "markdown",
   "metadata": {},
   "source": [
    "### Dataset B"
   ]
  },
  {
   "cell_type": "code",
   "execution_count": null,
   "metadata": {},
   "outputs": [],
   "source": [
    "# Your Code here"
   ]
  },
  {
   "cell_type": "markdown",
   "metadata": {},
   "source": [
    "## Topic: Stationarity\n",
    "\n",
    "To assess and compare the stationarity of two different time series datasets (births and airline passengers) using various techniques.\n",
    "\n",
    "Methods to be Used:\n",
    "- Run-sequence plot\n",
    "- Summary statistics (mean and variance)\n",
    "- Histogram plots\n",
    "- Augmented Dickey-Fuller (ADF) test\n",
    "\n",
    "\n",
    "**Task:**\n",
    "1. Correctly identify whether each dataset is stationary or non-stationary.\n",
    "2. Correctly interpret the summary statistics, histograms, and ADF test results.\n",
    "3. Provide a coherent comparative analysis of the stationarity of both datasets."
   ]
  },
  {
   "cell_type": "markdown",
   "metadata": {},
   "source": [
    "### Exercise 4: Run-Sequence Plot\n",
    "Task:\n",
    "Plot a run-sequence plot for both the airline passengers and births datasets to visually inspect them for any obvious trends, seasonality, or other non-stationary behaviors."
   ]
  },
  {
   "cell_type": "code",
   "execution_count": null,
   "metadata": {},
   "outputs": [],
   "source": [
    "import pandas as pd\n",
    "# Load datasets\n",
    "airline_data = pd.read_csv(\"PATH/TO/airline_passengers.csv\")\n",
    "birth_data = pd.read_csv(\"PATH/TO/births.csv\")"
   ]
  },
  {
   "cell_type": "code",
   "execution_count": null,
   "metadata": {},
   "outputs": [],
   "source": [
    "# Your code here"
   ]
  },
  {
   "cell_type": "markdown",
   "metadata": {},
   "source": [
    "### Exercise 5: Plot Mean and Variance Over Time\n",
    "Task:\n",
    "Divide both datasets into monthly segments and calculate the mean and variance for each segment to check if they change over time.\n"
   ]
  },
  {
   "cell_type": "code",
   "execution_count": null,
   "metadata": {},
   "outputs": [],
   "source": [
    "# Your code here"
   ]
  },
  {
   "cell_type": "markdown",
   "metadata": {},
   "source": [
    "### Exercise 6: Assessing Stationarity with Histogram Plots\n",
    "Task:\n",
    "Plot histograms for both the airline passengers and births datasets to visually inspect their distributions. Assess whether the data appears to be normally distributed, which is one of the hallmarks of a stationary series."
   ]
  },
  {
   "cell_type": "code",
   "execution_count": null,
   "metadata": {},
   "outputs": [],
   "source": [
    "# Your code here"
   ]
  },
  {
   "cell_type": "markdown",
   "metadata": {},
   "source": [
    "### Exercise 7: Augmented Dickey-Fuller Test\n",
    "Task:\n",
    "Perform the Augmented Dickey-Fuller test on both datasets to statistically check for stationarity. Interpret the results, including the ADF statistic, the p-value, and the critical values, to determine whether the series are stationary or not."
   ]
  },
  {
   "cell_type": "code",
   "execution_count": null,
   "metadata": {},
   "outputs": [],
   "source": [
    "# Your code here"
   ]
  },
  {
   "cell_type": "markdown",
   "metadata": {},
   "source": [
    "### Exercise 8: Autocorrelation\n",
    "Task: Evaluate the autocorellation of both datasets using methods from todays lecture. Are there any significant lags for a later forecast?"
   ]
  },
  {
   "cell_type": "code",
   "execution_count": null,
   "metadata": {},
   "outputs": [],
   "source": [
    "# Your code here"
   ]
  }
 ],
 "metadata": {
  "kernelspec": {
   "display_name": "summerschool",
   "language": "python",
   "name": "python3"
  },
  "language_info": {
   "codemirror_mode": {
    "name": "ipython",
    "version": 3
   },
   "file_extension": ".py",
   "mimetype": "text/x-python",
   "name": "python",
   "nbconvert_exporter": "python",
   "pygments_lexer": "ipython3",
   "version": "3.11.4"
  },
  "orig_nbformat": 4
 },
 "nbformat": 4,
 "nbformat_minor": 2
}
